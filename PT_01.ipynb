{
  "nbformat": 4,
  "nbformat_minor": 0,
  "metadata": {
    "colab": {
      "provenance": []
    },
    "kernelspec": {
      "name": "python3",
      "display_name": "Python 3"
    },
    "language_info": {
      "name": "python"
    }
  },
  "cells": [
    {
      "cell_type": "markdown",
      "source": [
        "# Pytorch Workflow Fundamentals"
      ],
      "metadata": {
        "id": "ildZUritzIuH"
      }
    },
    {
      "cell_type": "markdown",
      "source": [
        "Steps being Covered:\n",
        "1. Prepare and Load data\n",
        "2. Build model\n",
        "3. Fitting the model to training data\n",
        "4. Make predictions and evaluate the model\n",
        "5. Saving and loading the model\n",
        "6. Putting it all together"
      ],
      "metadata": {
        "id": "ZzYAiIYi0r_3"
      }
    },
    {
      "cell_type": "code",
      "source": [
        "import numpy as np\n",
        "import pandas as pd\n",
        "import torch\n",
        "from torch import nn\n",
        "import matplotlib.pyplot as plt\n",
        "\n",
        "# Check PyTorch version\n",
        "print(torch.__version__)"
      ],
      "metadata": {
        "colab": {
          "base_uri": "https://localhost:8080/"
        },
        "id": "x9PikrET1FPZ",
        "outputId": "19b4e8cc-f757-463d-b526-81465f73d437"
      },
      "execution_count": 1,
      "outputs": [
        {
          "output_type": "stream",
          "name": "stdout",
          "text": [
            "2.0.1+cu118\n"
          ]
        }
      ]
    },
    {
      "cell_type": "markdown",
      "source": [
        "## 1. Preparing and Loading Data\n",
        "\n",
        "We will create sample dataset for simple regression problem."
      ],
      "metadata": {
        "id": "899oTyXn1WLU"
      }
    },
    {
      "cell_type": "code",
      "source": [
        "weight = 0.7\n",
        "bias = 0.3\n",
        "\n",
        "start = 0\n",
        "end = 1\n",
        "step = 0.02\n",
        "X = torch.arange(start,end,step).unsqueeze(dim=1)\n",
        "y = (weight*X) + bias\n",
        "\n",
        "X[:10], y[:10]"
      ],
      "metadata": {
        "colab": {
          "base_uri": "https://localhost:8080/"
        },
        "id": "Wluv0fSN3aYl",
        "outputId": "907df60c-1dbe-401f-9d48-31de50775192"
      },
      "execution_count": 4,
      "outputs": [
        {
          "output_type": "execute_result",
          "data": {
            "text/plain": [
              "(tensor([[0.0000],\n",
              "         [0.0200],\n",
              "         [0.0400],\n",
              "         [0.0600],\n",
              "         [0.0800],\n",
              "         [0.1000],\n",
              "         [0.1200],\n",
              "         [0.1400],\n",
              "         [0.1600],\n",
              "         [0.1800]]),\n",
              " tensor([[0.3000],\n",
              "         [0.3140],\n",
              "         [0.3280],\n",
              "         [0.3420],\n",
              "         [0.3560],\n",
              "         [0.3700],\n",
              "         [0.3840],\n",
              "         [0.3980],\n",
              "         [0.4120],\n",
              "         [0.4260]]))"
            ]
          },
          "metadata": {},
          "execution_count": 4
        }
      ]
    },
    {
      "cell_type": "markdown",
      "source": [
        "### Splitting data into training and test sets"
      ],
      "metadata": {
        "id": "hCqilURc3zAQ"
      }
    },
    {
      "cell_type": "code",
      "source": [
        "train_split = int(0.8 * len(X))\n",
        "X_train, y_train = X[:train_split], y[:train_split]\n",
        "X_test, y_test = X[train_split:], y[train_split:]\n",
        "\n",
        "len(X_train), len(y_train), len(X_test), len(y_test)"
      ],
      "metadata": {
        "colab": {
          "base_uri": "https://localhost:8080/"
        },
        "id": "45mnrfUZ5iZ4",
        "outputId": "fa597b58-3fd4-42a6-a7b0-93030c53205d"
      },
      "execution_count": 6,
      "outputs": [
        {
          "output_type": "execute_result",
          "data": {
            "text/plain": [
              "(40, 40, 10, 10)"
            ]
          },
          "metadata": {},
          "execution_count": 6
        }
      ]
    },
    {
      "cell_type": "markdown",
      "source": [
        "### Plotting the training and test data"
      ],
      "metadata": {
        "id": "QS0V4NbF56xr"
      }
    },
    {
      "cell_type": "code",
      "source": [
        "def plot_predictions(train_data, train_labels, test_data, test_labels, predictions):\n",
        "  \"\"\"\n",
        "  Plots training data, test data and compares prediction\n",
        "  \"\"\"\n",
        "  plt.figure(figsize=(10,7))\n",
        "\n",
        "  plt.scatter(train_data, train_labels, c='b', s=4, label=\"Training Data\")\n",
        "\n",
        "  plt.scatter(test_data, test_labels, c='g', s=4, label=\"Test Data\")\n",
        "\n",
        "  if predictions is not None:\n",
        "    plt.scatter(test_data, predictions,c='r', s=4, label=\"predictions\" )\n",
        "\n",
        "  plt.legend(prop={\"size\":14})\n",
        "  plt.show()"
      ],
      "metadata": {
        "id": "h4nmjgfS9BHO"
      },
      "execution_count": 9,
      "outputs": []
    },
    {
      "cell_type": "code",
      "source": [
        "plot_predictions(X_train,y_train,X_test,y_test,None)"
      ],
      "metadata": {
        "colab": {
          "base_uri": "https://localhost:8080/",
          "height": 599
        },
        "id": "t9ZXyUSB95IX",
        "outputId": "4eb57132-7b91-49f1-b0fe-d92b40ce11c4"
      },
      "execution_count": 10,
      "outputs": [
        {
          "output_type": "display_data",
          "data": {
            "text/plain": [
              "<Figure size 1000x700 with 1 Axes>"
            ],
            "image/png": "[encoded data removed]"
          },
          "metadata": {}
        }
      ]
    },
    {
      "cell_type": "markdown",
      "source": [
        "## 2. Build Model"
      ],
      "metadata": {
        "id": "k_xTfIql-H8G"
      }
    },
    {
      "cell_type": "code",
      "source": [
        "class LinearRegressionModel(nn.Module):\n",
        "  def __init__(self):\n",
        "    super().__init__()\n",
        "    self.weights = nn.Parameter(torch.randn(1, dtype=torch.float),\n",
        "                                requires_grad=True)\n",
        "\n",
        "    self.bias = nn.Parameter(torch.randn(1, dtype=torch.float),\n",
        "                              requires_grad=True)\n",
        "\n",
        "  def forward(self, x:torch.Tensor) -> torch.Tensor:\n",
        "      return self.weights*x + self.bias"
      ],
      "metadata": {
        "id": "abzW1mB3-YbT"
      },
      "execution_count": 14,
      "outputs": []
    },
    {
      "cell_type": "markdown",
      "source": [
        "### Checking the contents of PyTorch model"
      ],
      "metadata": {
        "id": "E_AiNrThAib6"
      }
    },
    {
      "cell_type": "code",
      "source": [
        "torch.manual_seed(42)\n",
        "model_0 = LinearRegressionModel()\n",
        "\n",
        "list(model_0.parameters())"
      ],
      "metadata": {
        "colab": {
          "base_uri": "https://localhost:8080/"
        },
        "id": "QxD-5bvhF0dC",
        "outputId": "d31e25a8-f12b-47d5-8a8e-168ade46fc0f"
      },
      "execution_count": 15,
      "outputs": [
        {
          "output_type": "execute_result",
          "data": {
            "text/plain": [
              "[Parameter containing:\n",
              " tensor([0.3367], requires_grad=True),\n",
              " Parameter containing:\n",
              " tensor([0.1288], requires_grad=True)]"
            ]
          },
          "metadata": {},
          "execution_count": 15
        }
      ]
    },
    {
      "cell_type": "code",
      "source": [
        "model_0.state_dict()"
      ],
      "metadata": {
        "colab": {
          "base_uri": "https://localhost:8080/"
        },
        "id": "IcVU_9w8F_sU",
        "outputId": "b9329ffb-a3c2-4774-8c63-a8f0b354a0d6"
      },
      "execution_count": 16,
      "outputs": [
        {
          "output_type": "execute_result",
          "data": {
            "text/plain": [
              "OrderedDict([('weights', tensor([0.3367])), ('bias', tensor([0.1288]))])"
            ]
          },
          "metadata": {},
          "execution_count": 16
        }
      ]
    },
    {
      "cell_type": "markdown",
      "source": [
        "### Making Prediction using `torch.inference_mode()`"
      ],
      "metadata": {
        "id": "84VP5C-wGRIb"
      }
    },
    {
      "cell_type": "code",
      "source": [
        "with torch.inference_mode():\n",
        "  y_preds = model_0(X_test)"
      ],
      "metadata": {
        "id": "IcVo6ai0GeWZ"
      },
      "execution_count": 17,
      "outputs": []
    },
    {
      "cell_type": "code",
      "source": [
        "print(f\"Number of testing samples: {len(X_test)}\")\n",
        "print(f\"Number of predictions made: {len(y_preds)}\")\n",
        "print(f\"Predicted values:\\n{y_preds}\")"
      ],
      "metadata": {
        "colab": {
          "base_uri": "https://localhost:8080/"
        },
        "id": "P4EFzmT8GewR",
        "outputId": "0e36b417-ff7e-4212-8a0e-9e5cd72ba230"
      },
      "execution_count": 18,
      "outputs": [
        {
          "output_type": "stream",
          "name": "stdout",
          "text": [
            "Number of testing samples: 10\n",
            "Number of predictions made: 10\n",
            "Predicted values:\n",
            "tensor([[0.3982],\n",
            "        [0.4049],\n",
            "        [0.4116],\n",
            "        [0.4184],\n",
            "        [0.4251],\n",
            "        [0.4318],\n",
            "        [0.4386],\n",
            "        [0.4453],\n",
            "        [0.4520],\n",
            "        [0.4588]])\n"
          ]
        }
      ]
    },
    {
      "cell_type": "code",
      "source": [
        "plot_predictions(X_train,y_train,X_test,y_test,y_preds)"
      ],
      "metadata": {
        "colab": {
          "base_uri": "https://localhost:8080/",
          "height": 599
        },
        "id": "Zmuwn3j3GojA",
        "outputId": "4e60135e-43ee-4bf2-d3ae-4e432c191b63"
      },
      "execution_count": 20,
      "outputs": [
        {
          "output_type": "display_data",
          "data": {
            "text/plain": [
              "<Figure size 1000x700 with 1 Axes>"
            ],
            "image/png": "[encoded data removed]"
          },
          "metadata": {}
        }
      ]
    },
    {
      "cell_type": "code",
      "source": [
        "y_test - y_preds"
      ],
      "metadata": {
        "colab": {
          "base_uri": "https://localhost:8080/"
        },
        "id": "gCeBtzzkGwJY",
        "outputId": "b52b8003-a974-4d1a-c108-e54aa6a64a5d"
      },
      "execution_count": 21,
      "outputs": [
        {
          "output_type": "execute_result",
          "data": {
            "text/plain": [
              "tensor([[0.4618],\n",
              "        [0.4691],\n",
              "        [0.4764],\n",
              "        [0.4836],\n",
              "        [0.4909],\n",
              "        [0.4982],\n",
              "        [0.5054],\n",
              "        [0.5127],\n",
              "        [0.5200],\n",
              "        [0.5272]])"
            ]
          },
          "metadata": {},
          "execution_count": 21
        }
      ]
    },
    {
      "cell_type": "markdown",
      "source": [
        "Predictions are way off"
      ],
      "metadata": {
        "id": "XQ1FlYLeG8u3"
      }
    },
    {
      "cell_type": "markdown",
      "source": [
        "## 3. Train Model"
      ],
      "metadata": {
        "id": "9yT9s7RtHBQh"
      }
    },
    {
      "cell_type": "markdown",
      "source": [
        "### Creating a loss function and optimizer"
      ],
      "metadata": {
        "id": "H1sWYFirHD40"
      }
    },
    {
      "cell_type": "code",
      "source": [
        "loss_fn = nn.L1Loss()         # MAE loss\n",
        "\n",
        "optimizer = torch.optim.SGD(params=model_0.parameters(),\n",
        "                            lr=0.01)"
      ],
      "metadata": {
        "id": "CafZppatMUmI"
      },
      "execution_count": 24,
      "outputs": []
    },
    {
      "cell_type": "markdown",
      "source": [
        "### Pytorch Training loop"
      ],
      "metadata": {
        "id": "Gu2Id9cmMn6w"
      }
    },
    {
      "cell_type": "code",
      "source": [
        "torch.manual_seed(123)\n",
        "\n",
        "epochs = 1000\n",
        "\n",
        "train_val_loss = []\n",
        "test_val_loss = []\n",
        "epoch_count = []\n",
        "\n",
        "for epoch in range(epochs):\n",
        "\n",
        "  # Training\n",
        "  # Put model in training mode\n",
        "  model_0.train()\n",
        "\n",
        "  # 1. Forward pass on train data using the forward() method inside\n",
        "  y_pred = model_0(X_train)\n",
        "\n",
        "  # 2. Calculate the loss\n",
        "  loss = loss_fn(y_pred, y_train)\n",
        "\n",
        "  # 3. Zero grad of the optimizer\n",
        "  optimizer.zero_grad()\n",
        "\n",
        "  # 4. Loss backwards\n",
        "  loss.backward()\n",
        "\n",
        "  # 5. Progress the optimizer\n",
        "  optimizer.step()\n",
        "\n",
        "  # Put model in evaluation mode\n",
        "  model_0.eval()\n",
        "\n",
        "  with torch.inference_mode():\n",
        "    # 1. Forward pass on test data\n",
        "    test_pred = model_0(X_test)\n",
        "\n",
        "    # 2. Calculate loss on test data\n",
        "    test_loss = loss_fn(test_pred, y_test.type(torch.float))\n",
        "\n",
        "    if epoch % 10 == 0:\n",
        "      epoch_count.append(epoch)\n",
        "      train_val_loss.append(loss.detach().numpy())\n",
        "      test_val_loss.append(test_loss.detach().numpy())\n",
        "      print(f\"Epoch: {epoch} | MAE Train Loss: {loss} | MAE Test Loss: {test_loss} \")\n"
      ],
      "metadata": {
        "colab": {
          "base_uri": "https://localhost:8080/"
        },
        "id": "1wL_j0TGQIGD",
        "outputId": "0f24cc0f-b3d9-4981-e780-42b05fa128fe"
      },
      "execution_count": 31,
      "outputs": [
        {
          "output_type": "stream",
          "name": "stdout",
          "text": [
            "Epoch: 0 | MAE Train Loss: 0.024110013619065285 | MAE Test Loss: 0.05536102131009102 \n",
            "Epoch: 10 | MAE Train Loss: 0.020677709951996803 | MAE Test Loss: 0.04777535796165466 \n",
            "Epoch: 20 | MAE Train Loss: 0.017245199531316757 | MAE Test Loss: 0.0395028181374073 \n",
            "Epoch: 30 | MAE Train Loss: 0.013806397095322609 | MAE Test Loss: 0.031230276450514793 \n",
            "Epoch: 40 | MAE Train Loss: 0.010375778190791607 | MAE Test Loss: 0.023644620552659035 \n",
            "Epoch: 50 | MAE Train Loss: 0.006941580679267645 | MAE Test Loss: 0.0153720797970891 \n",
            "Epoch: 60 | MAE Train Loss: 0.0035027749836444855 | MAE Test Loss: 0.007099539041519165 \n",
            "Epoch: 70 | MAE Train Loss: 0.0025885067880153656 | MAE Test Loss: 0.008447891101241112 \n",
            "Epoch: 80 | MAE Train Loss: 0.0025885067880153656 | MAE Test Loss: 0.008447891101241112 \n",
            "Epoch: 90 | MAE Train Loss: 0.0025885067880153656 | MAE Test Loss: 0.008447891101241112 \n",
            "Epoch: 100 | MAE Train Loss: 0.0025885067880153656 | MAE Test Loss: 0.008447891101241112 \n",
            "Epoch: 110 | MAE Train Loss: 0.0025885067880153656 | MAE Test Loss: 0.008447891101241112 \n",
            "Epoch: 120 | MAE Train Loss: 0.0025885067880153656 | MAE Test Loss: 0.008447891101241112 \n",
            "Epoch: 130 | MAE Train Loss: 0.0025885067880153656 | MAE Test Loss: 0.008447891101241112 \n",
            "Epoch: 140 | MAE Train Loss: 0.0025885067880153656 | MAE Test Loss: 0.008447891101241112 \n",
            "Epoch: 150 | MAE Train Loss: 0.0025885067880153656 | MAE Test Loss: 0.008447891101241112 \n",
            "Epoch: 160 | MAE Train Loss: 0.0025885067880153656 | MAE Test Loss: 0.008447891101241112 \n",
            "Epoch: 170 | MAE Train Loss: 0.0025885067880153656 | MAE Test Loss: 0.008447891101241112 \n",
            "Epoch: 180 | MAE Train Loss: 0.0025885067880153656 | MAE Test Loss: 0.008447891101241112 \n",
            "Epoch: 190 | MAE Train Loss: 0.0025885067880153656 | MAE Test Loss: 0.008447891101241112 \n",
            "Epoch: 200 | MAE Train Loss: 0.0025885067880153656 | MAE Test Loss: 0.008447891101241112 \n",
            "Epoch: 210 | MAE Train Loss: 0.0025885067880153656 | MAE Test Loss: 0.008447891101241112 \n",
            "Epoch: 220 | MAE Train Loss: 0.0025885067880153656 | MAE Test Loss: 0.008447891101241112 \n",
            "Epoch: 230 | MAE Train Loss: 0.0025885067880153656 | MAE Test Loss: 0.008447891101241112 \n",
            "Epoch: 240 | MAE Train Loss: 0.0025885067880153656 | MAE Test Loss: 0.008447891101241112 \n",
            "Epoch: 250 | MAE Train Loss: 0.0025885067880153656 | MAE Test Loss: 0.008447891101241112 \n",
            "Epoch: 260 | MAE Train Loss: 0.0025885067880153656 | MAE Test Loss: 0.008447891101241112 \n",
            "Epoch: 270 | MAE Train Loss: 0.0025885067880153656 | MAE Test Loss: 0.008447891101241112 \n",
            "Epoch: 280 | MAE Train Loss: 0.0025885067880153656 | MAE Test Loss: 0.008447891101241112 \n",
            "Epoch: 290 | MAE Train Loss: 0.0025885067880153656 | MAE Test Loss: 0.008447891101241112 \n",
            "Epoch: 300 | MAE Train Loss: 0.0025885067880153656 | MAE Test Loss: 0.008447891101241112 \n",
            "Epoch: 310 | MAE Train Loss: 0.0025885067880153656 | MAE Test Loss: 0.008447891101241112 \n",
            "Epoch: 320 | MAE Train Loss: 0.0025885067880153656 | MAE Test Loss: 0.008447891101241112 \n",
            "Epoch: 330 | MAE Train Loss: 0.0025885067880153656 | MAE Test Loss: 0.008447891101241112 \n",
            "Epoch: 340 | MAE Train Loss: 0.0025885067880153656 | MAE Test Loss: 0.008447891101241112 \n",
            "Epoch: 350 | MAE Train Loss: 0.0025885067880153656 | MAE Test Loss: 0.008447891101241112 \n",
            "Epoch: 360 | MAE Train Loss: 0.0025885067880153656 | MAE Test Loss: 0.008447891101241112 \n",
            "Epoch: 370 | MAE Train Loss: 0.0025885067880153656 | MAE Test Loss: 0.008447891101241112 \n",
            "Epoch: 380 | MAE Train Loss: 0.0025885067880153656 | MAE Test Loss: 0.008447891101241112 \n",
            "Epoch: 390 | MAE Train Loss: 0.0025885067880153656 | MAE Test Loss: 0.008447891101241112 \n",
            "Epoch: 400 | MAE Train Loss: 0.0025885067880153656 | MAE Test Loss: 0.008447891101241112 \n",
            "Epoch: 410 | MAE Train Loss: 0.0025885067880153656 | MAE Test Loss: 0.008447891101241112 \n",
            "Epoch: 420 | MAE Train Loss: 0.0025885067880153656 | MAE Test Loss: 0.008447891101241112 \n",
            "Epoch: 430 | MAE Train Loss: 0.0025885067880153656 | MAE Test Loss: 0.008447891101241112 \n",
            "Epoch: 440 | MAE Train Loss: 0.0025885067880153656 | MAE Test Loss: 0.008447891101241112 \n",
            "Epoch: 450 | MAE Train Loss: 0.0025885067880153656 | MAE Test Loss: 0.008447891101241112 \n",
            "Epoch: 460 | MAE Train Loss: 0.0025885067880153656 | MAE Test Loss: 0.008447891101241112 \n",
            "Epoch: 470 | MAE Train Loss: 0.0025885067880153656 | MAE Test Loss: 0.008447891101241112 \n",
            "Epoch: 480 | MAE Train Loss: 0.0025885067880153656 | MAE Test Loss: 0.008447891101241112 \n",
            "Epoch: 490 | MAE Train Loss: 0.0025885067880153656 | MAE Test Loss: 0.008447891101241112 \n",
            "Epoch: 500 | MAE Train Loss: 0.0025885067880153656 | MAE Test Loss: 0.008447891101241112 \n",
            "Epoch: 510 | MAE Train Loss: 0.0025885067880153656 | MAE Test Loss: 0.008447891101241112 \n",
            "Epoch: 520 | MAE Train Loss: 0.0025885067880153656 | MAE Test Loss: 0.008447891101241112 \n",
            "Epoch: 530 | MAE Train Loss: 0.0025885067880153656 | MAE Test Loss: 0.008447891101241112 \n",
            "Epoch: 540 | MAE Train Loss: 0.0025885067880153656 | MAE Test Loss: 0.008447891101241112 \n",
            "Epoch: 550 | MAE Train Loss: 0.0025885067880153656 | MAE Test Loss: 0.008447891101241112 \n",
            "Epoch: 560 | MAE Train Loss: 0.0025885067880153656 | MAE Test Loss: 0.008447891101241112 \n",
            "Epoch: 570 | MAE Train Loss: 0.0025885067880153656 | MAE Test Loss: 0.008447891101241112 \n",
            "Epoch: 580 | MAE Train Loss: 0.0025885067880153656 | MAE Test Loss: 0.008447891101241112 \n",
            "Epoch: 590 | MAE Train Loss: 0.0025885067880153656 | MAE Test Loss: 0.008447891101241112 \n",
            "Epoch: 600 | MAE Train Loss: 0.0025885067880153656 | MAE Test Loss: 0.008447891101241112 \n",
            "Epoch: 610 | MAE Train Loss: 0.0025885067880153656 | MAE Test Loss: 0.008447891101241112 \n",
            "Epoch: 620 | MAE Train Loss: 0.0025885067880153656 | MAE Test Loss: 0.008447891101241112 \n",
            "Epoch: 630 | MAE Train Loss: 0.0025885067880153656 | MAE Test Loss: 0.008447891101241112 \n",
            "Epoch: 640 | MAE Train Loss: 0.0025885067880153656 | MAE Test Loss: 0.008447891101241112 \n",
            "Epoch: 650 | MAE Train Loss: 0.0025885067880153656 | MAE Test Loss: 0.008447891101241112 \n",
            "Epoch: 660 | MAE Train Loss: 0.0025885067880153656 | MAE Test Loss: 0.008447891101241112 \n",
            "Epoch: 670 | MAE Train Loss: 0.0025885067880153656 | MAE Test Loss: 0.008447891101241112 \n",
            "Epoch: 680 | MAE Train Loss: 0.0025885067880153656 | MAE Test Loss: 0.008447891101241112 \n",
            "Epoch: 690 | MAE Train Loss: 0.0025885067880153656 | MAE Test Loss: 0.008447891101241112 \n",
            "Epoch: 700 | MAE Train Loss: 0.0025885067880153656 | MAE Test Loss: 0.008447891101241112 \n",
            "Epoch: 710 | MAE Train Loss: 0.0025885067880153656 | MAE Test Loss: 0.008447891101241112 \n",
            "Epoch: 720 | MAE Train Loss: 0.0025885067880153656 | MAE Test Loss: 0.008447891101241112 \n",
            "Epoch: 730 | MAE Train Loss: 0.0025885067880153656 | MAE Test Loss: 0.008447891101241112 \n",
            "Epoch: 740 | MAE Train Loss: 0.0025885067880153656 | MAE Test Loss: 0.008447891101241112 \n",
            "Epoch: 750 | MAE Train Loss: 0.0025885067880153656 | MAE Test Loss: 0.008447891101241112 \n",
            "Epoch: 760 | MAE Train Loss: 0.0025885067880153656 | MAE Test Loss: 0.008447891101241112 \n",
            "Epoch: 770 | MAE Train Loss: 0.0025885067880153656 | MAE Test Loss: 0.008447891101241112 \n",
            "Epoch: 780 | MAE Train Loss: 0.0025885067880153656 | MAE Test Loss: 0.008447891101241112 \n",
            "Epoch: 790 | MAE Train Loss: 0.0025885067880153656 | MAE Test Loss: 0.008447891101241112 \n",
            "Epoch: 800 | MAE Train Loss: 0.0025885067880153656 | MAE Test Loss: 0.008447891101241112 \n",
            "Epoch: 810 | MAE Train Loss: 0.0025885067880153656 | MAE Test Loss: 0.008447891101241112 \n",
            "Epoch: 820 | MAE Train Loss: 0.0025885067880153656 | MAE Test Loss: 0.008447891101241112 \n",
            "Epoch: 830 | MAE Train Loss: 0.0025885067880153656 | MAE Test Loss: 0.008447891101241112 \n",
            "Epoch: 840 | MAE Train Loss: 0.0025885067880153656 | MAE Test Loss: 0.008447891101241112 \n",
            "Epoch: 850 | MAE Train Loss: 0.0025885067880153656 | MAE Test Loss: 0.008447891101241112 \n",
            "Epoch: 860 | MAE Train Loss: 0.0025885067880153656 | MAE Test Loss: 0.008447891101241112 \n",
            "Epoch: 870 | MAE Train Loss: 0.0025885067880153656 | MAE Test Loss: 0.008447891101241112 \n",
            "Epoch: 880 | MAE Train Loss: 0.0025885067880153656 | MAE Test Loss: 0.008447891101241112 \n",
            "Epoch: 890 | MAE Train Loss: 0.0025885067880153656 | MAE Test Loss: 0.008447891101241112 \n",
            "Epoch: 900 | MAE Train Loss: 0.0025885067880153656 | MAE Test Loss: 0.008447891101241112 \n",
            "Epoch: 910 | MAE Train Loss: 0.0025885067880153656 | MAE Test Loss: 0.008447891101241112 \n",
            "Epoch: 920 | MAE Train Loss: 0.0025885067880153656 | MAE Test Loss: 0.008447891101241112 \n",
            "Epoch: 930 | MAE Train Loss: 0.0025885067880153656 | MAE Test Loss: 0.008447891101241112 \n",
            "Epoch: 940 | MAE Train Loss: 0.0025885067880153656 | MAE Test Loss: 0.008447891101241112 \n",
            "Epoch: 950 | MAE Train Loss: 0.0025885067880153656 | MAE Test Loss: 0.008447891101241112 \n",
            "Epoch: 960 | MAE Train Loss: 0.0025885067880153656 | MAE Test Loss: 0.008447891101241112 \n",
            "Epoch: 970 | MAE Train Loss: 0.0025885067880153656 | MAE Test Loss: 0.008447891101241112 \n",
            "Epoch: 980 | MAE Train Loss: 0.0025885067880153656 | MAE Test Loss: 0.008447891101241112 \n",
            "Epoch: 990 | MAE Train Loss: 0.0025885067880153656 | MAE Test Loss: 0.008447891101241112 \n"
          ]
        }
      ]
    },
    {
      "cell_type": "code",
      "source": [
        "# Plot the Loss curves\n",
        "\n",
        "plt.plot(epoch_count, train_val_loss, label=\"Train loss\")\n",
        "plt.plot(epoch_count, test_val_loss, label=\"Test loss\")\n",
        "plt.title(\"Training and test loss curves\")\n",
        "plt.ylabel(\"Loss\")\n",
        "plt.xlabel(\"Epochs\")\n",
        "plt.legend();"
      ],
      "metadata": {
        "colab": {
          "base_uri": "https://localhost:8080/",
          "height": 472
        },
        "id": "8BbtmyLgSGLV",
        "outputId": "8861fc7c-4f3e-4026-8d4f-6985ae5dc7e1"
      },
      "execution_count": 32,
      "outputs": [
        {
          "output_type": "display_data",
          "data": {
            "text/plain": [
              "<Figure size 640x480 with 1 Axes>"
            ],
            "image/png": "[encoded data removed]"
          },
          "metadata": {}
        }
      ]
    },
    {
      "cell_type": "code",
      "source": [
        "# Find our model's learned parameters\n",
        "print(\"The model learned the following values for weights and bias:\")\n",
        "print(model_0.state_dict())\n",
        "print(\"\\nAnd the original values for weights and bias are:\")\n",
        "print(f\"weights: {weight}, bias: {bias}\")"
      ],
      "metadata": {
        "colab": {
          "base_uri": "https://localhost:8080/"
        },
        "id": "KyVFNWz8YVB2",
        "outputId": "b4b5c941-429a-4670-edac-c8096a287819"
      },
      "execution_count": 33,
      "outputs": [
        {
          "output_type": "stream",
          "name": "stdout",
          "text": [
            "The model learned the following values for weights and bias:\n",
            "OrderedDict([('weights', tensor([0.6951])), ('bias', tensor([0.2993]))])\n",
            "\n",
            "And the original values for weights and bias are:\n",
            "weights: 0.7, bias: 0.3\n"
          ]
        }
      ]
    },
    {
      "cell_type": "markdown",
      "source": [
        "## 4. Making predictions with a trained PyTorch model"
      ],
      "metadata": {
        "id": "odnwb4PHf2ks"
      }
    },
    {
      "cell_type": "code",
      "source": [
        "with torch.inference_mode():\n",
        "  y_preds = model_0(X_test)\n",
        "y_preds"
      ],
      "metadata": {
        "colab": {
          "base_uri": "https://localhost:8080/"
        },
        "id": "eT8-W4blYZU4",
        "outputId": "458a85c6-dc26-4311-acc4-5668d2b5b7d4"
      },
      "execution_count": 37,
      "outputs": [
        {
          "output_type": "execute_result",
          "data": {
            "text/plain": [
              "tensor([[0.8554],\n",
              "        [0.8693],\n",
              "        [0.8832],\n",
              "        [0.8971],\n",
              "        [0.9110],\n",
              "        [0.9249],\n",
              "        [0.9388],\n",
              "        [0.9527],\n",
              "        [0.9666],\n",
              "        [0.9805]])"
            ]
          },
          "metadata": {},
          "execution_count": 37
        }
      ]
    },
    {
      "cell_type": "code",
      "source": [
        "plot_predictions(X_train,y_train,X_test,y_test,y_preds)"
      ],
      "metadata": {
        "colab": {
          "base_uri": "https://localhost:8080/",
          "height": 599
        },
        "id": "pBr4K6nXYpMw",
        "outputId": "60857045-5ebc-46b8-c4f0-033e490672de"
      },
      "execution_count": 38,
      "outputs": [
        {
          "output_type": "display_data",
          "data": {
            "text/plain": [
              "<Figure size 1000x700 with 1 Axes>"
            ],
            "image/png": "[encoded data removed]"
          },
          "metadata": {}
        }
      ]
    },
    {
      "cell_type": "markdown",
      "source": [
        "## 5. Saving and loading a Pytorch model"
      ],
      "metadata": {
        "id": "_qoHHD3UYp-A"
      }
    },
    {
      "cell_type": "code",
      "source": [
        "from pathlib import Path"
      ],
      "metadata": {
        "id": "QHkOUxkMgGG_"
      },
      "execution_count": 39,
      "outputs": []
    },
    {
      "cell_type": "code",
      "source": [
        "# 1. Create model directory\n",
        "MODEL_PATH = Path(\"models\")\n",
        "MODEL_PATH.mkdir(parents=True, exist_ok=True)\n",
        "\n",
        "# 2. Create Model save path\n",
        "MODEL_NAME = \"01_pytorch_workflow_model_0.pth\"\n",
        "MODEL_SAVE_PATH = MODEL_PATH/MODEL_NAME\n",
        "\n",
        "# 3. Save the model state_dict\n",
        "print(f\"Saving model to : {MODEL_SAVE_PATH}\")\n",
        "torch.save(obj=model_0.state_dict(),\n",
        "           f=MODEL_SAVE_PATH)"
      ],
      "metadata": {
        "colab": {
          "base_uri": "https://localhost:8080/"
        },
        "id": "1nG9030qgQ53",
        "outputId": "206be20f-a9bc-4e32-f1a7-5063225ea5e3"
      },
      "execution_count": 42,
      "outputs": [
        {
          "output_type": "stream",
          "name": "stdout",
          "text": [
            "Saving model to : models/01_pytorch_workflow_model_0.pth\n"
          ]
        }
      ]
    },
    {
      "cell_type": "code",
      "source": [
        "# Check the saved file path\n",
        "!ls -l models/01_pytorch_workflow_model_0.pth"
      ],
      "metadata": {
        "colab": {
          "base_uri": "https://localhost:8080/"
        },
        "id": "NGed3DCWg3Wj",
        "outputId": "3e3e4280-60c2-4e93-d6fd-5cdb8d28ceae"
      },
      "execution_count": 43,
      "outputs": [
        {
          "output_type": "stream",
          "name": "stdout",
          "text": [
            "-rw-r--r-- 1 root root 1207 Aug 18 16:39 models/01_pytorch_workflow_model_0.pth\n"
          ]
        }
      ]
    },
    {
      "cell_type": "markdown",
      "source": [
        "### Loading a Saved PyTOrch Model's `state_dict()`"
      ],
      "metadata": {
        "id": "USSg9jDShKWF"
      }
    },
    {
      "cell_type": "code",
      "source": [
        "# Instantiate a new instance of our model (this will be instantiated with random weights)\n",
        "loaded_model_0 = LinearRegressionModel()\n",
        "\n",
        "# Load the state_dict of our saved model (this will update the new instance of our model with trained weights)\n",
        "loaded_model_0.load_state_dict(torch.load(f=MODEL_SAVE_PATH))"
      ],
      "metadata": {
        "colab": {
          "base_uri": "https://localhost:8080/"
        },
        "id": "Da5Ckl8qifNv",
        "outputId": "eea67288-1aab-4d82-8e93-65cbc41a9eb5"
      },
      "execution_count": 46,
      "outputs": [
        {
          "output_type": "execute_result",
          "data": {
            "text/plain": [
              "<All keys matched successfully>"
            ]
          },
          "metadata": {},
          "execution_count": 46
        }
      ]
    },
    {
      "cell_type": "code",
      "source": [
        "# 1. Put the loaded model into evaluation mode\n",
        "loaded_model_0.eval()\n",
        "\n",
        "# 2. Use the inference mode context manager to make predictions\n",
        "with torch.inference_mode():\n",
        "  loaded_model_preds = loaded_model_0(X_test)"
      ],
      "metadata": {
        "id": "PY4QFWkXiq2t"
      },
      "execution_count": 48,
      "outputs": []
    },
    {
      "cell_type": "code",
      "source": [
        "# Compare previous model predictions with loaded model predictions (these should be the same)\n",
        "y_preds == loaded_model_preds"
      ],
      "metadata": {
        "colab": {
          "base_uri": "https://localhost:8080/"
        },
        "id": "8Qm4ipEsjIyc",
        "outputId": "4020218d-93d8-4a9a-b523-fcc6f1886fda"
      },
      "execution_count": 49,
      "outputs": [
        {
          "output_type": "execute_result",
          "data": {
            "text/plain": [
              "tensor([[True],\n",
              "        [True],\n",
              "        [True],\n",
              "        [True],\n",
              "        [True],\n",
              "        [True],\n",
              "        [True],\n",
              "        [True],\n",
              "        [True],\n",
              "        [True]])"
            ]
          },
          "metadata": {},
          "execution_count": 49
        }
      ]
    },
    {
      "cell_type": "markdown",
      "source": [
        "## 6. Putting it all together"
      ],
      "metadata": {
        "id": "zZFIU6B8jNAt"
      }
    },
    {
      "cell_type": "code",
      "source": [
        "# Import PyTorch and matplotlib\n",
        "import torch\n",
        "from torch import nn # nn contains all of PyTorch's building blocks for neural networks\n",
        "import matplotlib.pyplot as plt\n",
        "\n",
        "# Check PyTorch version\n",
        "torch.__version__"
      ],
      "metadata": {
        "colab": {
          "base_uri": "https://localhost:8080/",
          "height": 36
        },
        "id": "u-Q-5pOdjROm",
        "outputId": "eb6bc0c6-91d3-42aa-de86-34e889ebf5f4"
      },
      "execution_count": 50,
      "outputs": [
        {
          "output_type": "execute_result",
          "data": {
            "text/plain": [
              "'2.0.1+cu118'"
            ],
            "application/vnd.google.colaboratory.intrinsic+json": {
              "type": "string"
            }
          },
          "metadata": {},
          "execution_count": 50
        }
      ]
    },
    {
      "cell_type": "code",
      "source": [
        "# Setup device agnostic code\n",
        "device = \"cuda\" if torch.cuda.is_available() else \"cpu\"\n",
        "print(f\"Using device: {device}\")"
      ],
      "metadata": {
        "colab": {
          "base_uri": "https://localhost:8080/"
        },
        "id": "RR8VR7ggj8rb",
        "outputId": "85a3ec8b-5767-48a0-8fbe-6feba60a5097"
      },
      "execution_count": 51,
      "outputs": [
        {
          "output_type": "stream",
          "name": "stdout",
          "text": [
            "Using device: cpu\n"
          ]
        }
      ]
    },
    {
      "cell_type": "markdown",
      "source": [
        "### 6.1 Data"
      ],
      "metadata": {
        "id": "myzS5l2Zj-pK"
      }
    },
    {
      "cell_type": "code",
      "source": [
        "# Create weight and bias\n",
        "weight = 0.7\n",
        "bias = 0.3\n",
        "\n",
        "# Create range values\n",
        "start = 0\n",
        "end = 1\n",
        "step = 0.02\n",
        "\n",
        "# Create X and y (features and labels)\n",
        "X = torch.arange(start, end, step).unsqueeze(dim=1) # without unsqueeze, errors will happen later on (shapes within linear layers)\n",
        "y = weight * X + bias\n",
        "X[:10], y[:10]"
      ],
      "metadata": {
        "colab": {
          "base_uri": "https://localhost:8080/"
        },
        "id": "aY6-J8EckCxk",
        "outputId": "f163054d-7c11-4f9f-ebab-b0cf033a124e"
      },
      "execution_count": 52,
      "outputs": [
        {
          "output_type": "execute_result",
          "data": {
            "text/plain": [
              "(tensor([[0.0000],\n",
              "         [0.0200],\n",
              "         [0.0400],\n",
              "         [0.0600],\n",
              "         [0.0800],\n",
              "         [0.1000],\n",
              "         [0.1200],\n",
              "         [0.1400],\n",
              "         [0.1600],\n",
              "         [0.1800]]),\n",
              " tensor([[0.3000],\n",
              "         [0.3140],\n",
              "         [0.3280],\n",
              "         [0.3420],\n",
              "         [0.3560],\n",
              "         [0.3700],\n",
              "         [0.3840],\n",
              "         [0.3980],\n",
              "         [0.4120],\n",
              "         [0.4260]]))"
            ]
          },
          "metadata": {},
          "execution_count": 52
        }
      ]
    },
    {
      "cell_type": "code",
      "source": [
        "# Split data\n",
        "train_split = int(0.8 * len(X))\n",
        "X_train, y_train = X[:train_split], y[:train_split]\n",
        "X_test, y_test = X[train_split:], y[train_split:]\n",
        "\n",
        "len(X_train), len(y_train), len(X_test), len(y_test)"
      ],
      "metadata": {
        "colab": {
          "base_uri": "https://localhost:8080/"
        },
        "id": "Jf-ewImYkEIr",
        "outputId": "b2abe8d8-3a41-42b2-9aca-bf84e69a5978"
      },
      "execution_count": 53,
      "outputs": [
        {
          "output_type": "execute_result",
          "data": {
            "text/plain": [
              "(40, 40, 10, 10)"
            ]
          },
          "metadata": {},
          "execution_count": 53
        }
      ]
    },
    {
      "cell_type": "code",
      "source": [
        "plot_predictions(X_train, y_train, X_test, y_test,None)"
      ],
      "metadata": {
        "colab": {
          "base_uri": "https://localhost:8080/",
          "height": 599
        },
        "id": "OeDZFMKhkGQD",
        "outputId": "81e9035d-ff5f-4df6-c1a0-1bef4f57cb0a"
      },
      "execution_count": 55,
      "outputs": [
        {
          "output_type": "display_data",
          "data": {
            "text/plain": [
              "<Figure size 1000x700 with 1 Axes>"
            ],
            "image/png": "[encoded data removed]"
          },
          "metadata": {}
        }
      ]
    },
    {
      "cell_type": "markdown",
      "source": [
        "### 6.2 Building a PyTorch Linear Model"
      ],
      "metadata": {
        "id": "zr5P2R6ekIOL"
      }
    },
    {
      "cell_type": "code",
      "source": [
        "# Subclass nn.Module to make our model\n",
        "class LinearRegressionModelV2(nn.Module):\n",
        "    def __init__(self):\n",
        "        super().__init__()\n",
        "        # Use nn.Linear() for creating the model parameters\n",
        "        self.linear_layer = nn.Linear(in_features=1,\n",
        "                                      out_features=1)\n",
        "\n",
        "    # Define the forward computation (input data x flows through nn.Linear())\n",
        "    def forward(self, x: torch.Tensor) -> torch.Tensor:\n",
        "        return self.linear_layer(x)\n",
        "\n",
        "# Set the manual seed when creating the model (this isn't always need but is used for demonstrative purposes, try commenting it out and seeing what happens)\n",
        "torch.manual_seed(42)\n",
        "model_1 = LinearRegressionModelV2()\n",
        "model_1, model_1.state_dict()"
      ],
      "metadata": {
        "colab": {
          "base_uri": "https://localhost:8080/"
        },
        "id": "kR8wbMiskRYU",
        "outputId": "7cf14284-e55e-4afb-b6d6-66954892302f"
      },
      "execution_count": 56,
      "outputs": [
        {
          "output_type": "execute_result",
          "data": {
            "text/plain": [
              "(LinearRegressionModelV2(\n",
              "   (linear_layer): Linear(in_features=1, out_features=1, bias=True)\n",
              " ),\n",
              " OrderedDict([('linear_layer.weight', tensor([[0.7645]])),\n",
              "              ('linear_layer.bias', tensor([0.8300]))]))"
            ]
          },
          "metadata": {},
          "execution_count": 56
        }
      ]
    },
    {
      "cell_type": "code",
      "source": [
        "# Check model device\n",
        "next(model_1.parameters()).device"
      ],
      "metadata": {
        "colab": {
          "base_uri": "https://localhost:8080/"
        },
        "id": "nUo7OJx1kTcl",
        "outputId": "506ed23f-0238-4e54-eab3-b90a4a0a3a6d"
      },
      "execution_count": 57,
      "outputs": [
        {
          "output_type": "execute_result",
          "data": {
            "text/plain": [
              "device(type='cpu')"
            ]
          },
          "metadata": {},
          "execution_count": 57
        }
      ]
    },
    {
      "cell_type": "code",
      "source": [
        "# Set model to GPU if it's availalble, otherwise it'll default to CPU\n",
        "model_1.to(device) # the device variable was set above to be \"cuda\" if available or \"cpu\" if not\n",
        "next(model_1.parameters()).device"
      ],
      "metadata": {
        "colab": {
          "base_uri": "https://localhost:8080/"
        },
        "id": "4zktssUPkVQF",
        "outputId": "12d7cf8c-f110-4474-9074-1105f7211fb6"
      },
      "execution_count": 58,
      "outputs": [
        {
          "output_type": "execute_result",
          "data": {
            "text/plain": [
              "device(type='cpu')"
            ]
          },
          "metadata": {},
          "execution_count": 58
        }
      ]
    },
    {
      "cell_type": "markdown",
      "source": [
        "### 6.3 Training"
      ],
      "metadata": {
        "id": "R5zUlaRxkWj2"
      }
    },
    {
      "cell_type": "code",
      "source": [
        "# Create loss function\n",
        "loss_fn = nn.L1Loss()\n",
        "\n",
        "# Create optimizer\n",
        "optimizer = torch.optim.SGD(params=model_1.parameters(), # optimize newly created model's parameters\n",
        "                            lr=0.01)"
      ],
      "metadata": {
        "id": "9YGhcaZukZn1"
      },
      "execution_count": 59,
      "outputs": []
    },
    {
      "cell_type": "code",
      "source": [
        "torch.manual_seed(42)\n",
        "\n",
        "# Set the number of epochs\n",
        "epochs = 1000\n",
        "\n",
        "# Put data on the available device\n",
        "# Without this, error will happen (not all model/data on device)\n",
        "X_train = X_train.to(device)\n",
        "X_test = X_test.to(device)\n",
        "y_train = y_train.to(device)\n",
        "y_test = y_test.to(device)\n",
        "\n",
        "for epoch in range(epochs):\n",
        "    ### Training\n",
        "    model_1.train() # train mode is on by default after construction\n",
        "\n",
        "    # 1. Forward pass\n",
        "    y_pred = model_1(X_train)\n",
        "\n",
        "    # 2. Calculate loss\n",
        "    loss = loss_fn(y_pred, y_train)\n",
        "\n",
        "    # 3. Zero grad optimizer\n",
        "    optimizer.zero_grad()\n",
        "\n",
        "    # 4. Loss backward\n",
        "    loss.backward()\n",
        "\n",
        "    # 5. Step the optimizer\n",
        "    optimizer.step()\n",
        "\n",
        "    ### Testing\n",
        "    model_1.eval() # put the model in evaluation mode for testing (inference)\n",
        "    # 1. Forward pass\n",
        "    with torch.inference_mode():\n",
        "        test_pred = model_1(X_test)\n",
        "\n",
        "        # 2. Calculate the loss\n",
        "        test_loss = loss_fn(test_pred, y_test)\n",
        "\n",
        "    if epoch % 100 == 0:\n",
        "        print(f\"Epoch: {epoch} | Train loss: {loss} | Test loss: {test_loss}\")"
      ],
      "metadata": {
        "colab": {
          "base_uri": "https://localhost:8080/"
        },
        "id": "3cHPe23MkbHW",
        "outputId": "db50d94c-9cae-4135-a174-2ee96c15dc71"
      },
      "execution_count": 60,
      "outputs": [
        {
          "output_type": "stream",
          "name": "stdout",
          "text": [
            "Epoch: 0 | Train loss: 0.5551779866218567 | Test loss: 0.5739762187004089\n",
            "Epoch: 100 | Train loss: 0.006215679459273815 | Test loss: 0.014086711220443249\n",
            "Epoch: 200 | Train loss: 0.0012645035749301314 | Test loss: 0.013801807537674904\n",
            "Epoch: 300 | Train loss: 0.0012645035749301314 | Test loss: 0.013801807537674904\n",
            "Epoch: 400 | Train loss: 0.0012645035749301314 | Test loss: 0.013801807537674904\n",
            "Epoch: 500 | Train loss: 0.0012645035749301314 | Test loss: 0.013801807537674904\n",
            "Epoch: 600 | Train loss: 0.0012645035749301314 | Test loss: 0.013801807537674904\n",
            "Epoch: 700 | Train loss: 0.0012645035749301314 | Test loss: 0.013801807537674904\n",
            "Epoch: 800 | Train loss: 0.0012645035749301314 | Test loss: 0.013801807537674904\n",
            "Epoch: 900 | Train loss: 0.0012645035749301314 | Test loss: 0.013801807537674904\n"
          ]
        }
      ]
    },
    {
      "cell_type": "code",
      "source": [
        "# Find our model's learned parameters\n",
        "from pprint import pprint # pprint = pretty print, see: https://docs.python.org/3/library/pprint.html\n",
        "print(\"The model learned the following values for weights and bias:\")\n",
        "pprint(model_1.state_dict())\n",
        "print(\"\\nAnd the original values for weights and bias are:\")\n",
        "print(f\"weights: {weight}, bias: {bias}\")"
      ],
      "metadata": {
        "colab": {
          "base_uri": "https://localhost:8080/"
        },
        "id": "tIJXw-cDkdXm",
        "outputId": "7bb6e96b-8138-400f-9d40-60d81f60d30f"
      },
      "execution_count": 61,
      "outputs": [
        {
          "output_type": "stream",
          "name": "stdout",
          "text": [
            "The model learned the following values for weights and bias:\n",
            "OrderedDict([('linear_layer.weight', tensor([[0.6968]])),\n",
            "             ('linear_layer.bias', tensor([0.3025]))])\n",
            "\n",
            "And the original values for weights and bias are:\n",
            "weights: 0.7, bias: 0.3\n"
          ]
        }
      ]
    },
    {
      "cell_type": "markdown",
      "source": [
        "### 6.4 Making Predicitions"
      ],
      "metadata": {
        "id": "FOpukoCtkh1O"
      }
    },
    {
      "cell_type": "code",
      "source": [
        "# Turn model into evaluation mode\n",
        "model_1.eval()\n",
        "\n",
        "# Make predictions on the test data\n",
        "with torch.inference_mode():\n",
        "    y_preds = model_1(X_test)\n",
        "y_preds"
      ],
      "metadata": {
        "colab": {
          "base_uri": "https://localhost:8080/"
        },
        "id": "h2bkL2P-km-e",
        "outputId": "30abffc2-92e5-4132-c4dd-d11c4027d23f"
      },
      "execution_count": 62,
      "outputs": [
        {
          "output_type": "execute_result",
          "data": {
            "text/plain": [
              "tensor([[0.8600],\n",
              "        [0.8739],\n",
              "        [0.8878],\n",
              "        [0.9018],\n",
              "        [0.9157],\n",
              "        [0.9296],\n",
              "        [0.9436],\n",
              "        [0.9575],\n",
              "        [0.9714],\n",
              "        [0.9854]])"
            ]
          },
          "metadata": {},
          "execution_count": 62
        }
      ]
    },
    {
      "cell_type": "code",
      "source": [
        "plot_predictions(X_train, y_train, X_test, y_test,predictions=y_preds.cpu())"
      ],
      "metadata": {
        "colab": {
          "base_uri": "https://localhost:8080/",
          "height": 599
        },
        "id": "13fE3sQckoUv",
        "outputId": "98f93074-8241-43f6-edf9-16c6f2858357"
      },
      "execution_count": 63,
      "outputs": [
        {
          "output_type": "display_data",
          "data": {
            "text/plain": [
              "<Figure size 1000x700 with 1 Axes>"
            ],
            "image/png": "[encoded data removed]"
          },
          "metadata": {}
        }
      ]
    },
    {
      "cell_type": "markdown",
      "source": [
        "### 6.5 Saving and Loading a Model"
      ],
      "metadata": {
        "id": "2EUPBSOGkvTg"
      }
    },
    {
      "cell_type": "code",
      "source": [
        "from pathlib import Path\n",
        "\n",
        "# 1. Create models directory\n",
        "MODEL_PATH = Path(\"models\")\n",
        "MODEL_PATH.mkdir(parents=True, exist_ok=True)\n",
        "\n",
        "# 2. Create model save path\n",
        "MODEL_NAME = \"01_pytorch_workflow_model_1.pth\"\n",
        "MODEL_SAVE_PATH = MODEL_PATH / MODEL_NAME\n",
        "\n",
        "# 3. Save the model state dict\n",
        "print(f\"Saving model to: {MODEL_SAVE_PATH}\")\n",
        "torch.save(obj=model_1.state_dict(), # only saving the state_dict() only saves the models learned parameters\n",
        "           f=MODEL_SAVE_PATH)"
      ],
      "metadata": {
        "colab": {
          "base_uri": "https://localhost:8080/"
        },
        "id": "5SZTi2Obk3Gx",
        "outputId": "1bf3b9bc-6a8e-4852-f822-61d327126fd1"
      },
      "execution_count": 64,
      "outputs": [
        {
          "output_type": "stream",
          "name": "stdout",
          "text": [
            "Saving model to: models/01_pytorch_workflow_model_1.pth\n"
          ]
        }
      ]
    },
    {
      "cell_type": "code",
      "source": [
        "# Instantiate a fresh instance of LinearRegressionModelV2\n",
        "loaded_model_1 = LinearRegressionModelV2()\n",
        "\n",
        "# Load model state dict\n",
        "loaded_model_1.load_state_dict(torch.load(MODEL_SAVE_PATH))\n",
        "\n",
        "# Put model to target device (if your data is on GPU, model will have to be on GPU to make predictions)\n",
        "loaded_model_1.to(device)\n",
        "\n",
        "print(f\"Loaded model:\\n{loaded_model_1}\")\n",
        "print(f\"Model on device:\\n{next(loaded_model_1.parameters()).device}\")"
      ],
      "metadata": {
        "colab": {
          "base_uri": "https://localhost:8080/"
        },
        "id": "Vm8CxOz_k3fB",
        "outputId": "a018d8bb-f8fb-4ff1-9960-33bd2a2030d8"
      },
      "execution_count": 65,
      "outputs": [
        {
          "output_type": "stream",
          "name": "stdout",
          "text": [
            "Loaded model:\n",
            "LinearRegressionModelV2(\n",
            "  (linear_layer): Linear(in_features=1, out_features=1, bias=True)\n",
            ")\n",
            "Model on device:\n",
            "cpu\n"
          ]
        }
      ]
    },
    {
      "cell_type": "code",
      "source": [
        "# Evaluate loaded model\n",
        "loaded_model_1.eval()\n",
        "with torch.inference_mode():\n",
        "    loaded_model_1_preds = loaded_model_1(X_test)\n",
        "y_preds == loaded_model_1_preds"
      ],
      "metadata": {
        "colab": {
          "base_uri": "https://localhost:8080/"
        },
        "id": "DynUU7sek5OR",
        "outputId": "af1fd597-c5bf-4d71-b9a8-de77d18e2fd1"
      },
      "execution_count": 66,
      "outputs": [
        {
          "output_type": "execute_result",
          "data": {
            "text/plain": [
              "tensor([[True],\n",
              "        [True],\n",
              "        [True],\n",
              "        [True],\n",
              "        [True],\n",
              "        [True],\n",
              "        [True],\n",
              "        [True],\n",
              "        [True],\n",
              "        [True]])"
            ]
          },
          "metadata": {},
          "execution_count": 66
        }
      ]
    },
    {
      "cell_type": "code",
      "source": [],
      "metadata": {
        "id": "gCymYWTDk615"
      },
      "execution_count": null,
      "outputs": []
    }
  ]
}